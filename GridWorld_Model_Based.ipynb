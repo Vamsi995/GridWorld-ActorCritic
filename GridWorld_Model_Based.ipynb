{
  "nbformat": 4,
  "nbformat_minor": 0,
  "metadata": {
    "colab": {
      "name": "GridWorld Model Based",
      "provenance": [],
      "collapsed_sections": []
    },
    "kernelspec": {
      "name": "python3",
      "display_name": "Python 3"
    }
  },
  "cells": [
    {
      "cell_type": "code",
      "metadata": {
        "id": "PSO8pCQVX6yM"
      },
      "source": [
        "import numpy as np"
      ],
      "execution_count": null,
      "outputs": []
    },
    {
      "cell_type": "code",
      "metadata": {
        "id": "DnmDqdyJEUpu"
      },
      "source": [
        "class GridWorld:\n",
        "\n",
        "  def __init__(self, rows, cols, start, goal):\n",
        "\n",
        "    self.env = np.zeros((rows, cols))\n",
        "\n",
        "    self.start = start\n",
        "\n",
        "    self.goal = goal\n",
        "\n",
        "    self.env[goal] = 0\n",
        "\n",
        "    self.env[start] = 0\n",
        "\n",
        "    # Rmat[0:n-1,1,:],Rmat[1:,3,:] = -100,-100\n",
        "\n",
        "    # self.\n",
        "\n",
        "\n",
        "    self.rows = rows\n",
        "\n",
        "    self.cols = cols\n",
        "\n",
        "    self.cur_values = np.zeros((rows,cols))\n",
        "\n",
        "    \n",
        "\n",
        "\n",
        "  def nextState(self, s, a):\n",
        "\n",
        "    if a == 0:\n",
        "\n",
        "      if s[1] == 0:\n",
        "        return (s[0],s[1])\n",
        "\n",
        "      return (s[0], s[1] - 1)\n",
        "\n",
        "    elif a == 1:\n",
        "\n",
        "      if s[1] == self.cols - 1:\n",
        "        return (s[0], s[1])\n",
        "\n",
        "      return (s[0], s[1] + 1)\n",
        "\n",
        "    elif a == 2:\n",
        "\n",
        "      if s[0] == 0:\n",
        "        return (s[0], s[1])\n",
        "\n",
        "      return (s[0] - 1, s[1])\n",
        "\n",
        "    elif a == 3:\n",
        "\n",
        "      if s[0] == self.rows - 1:\n",
        "        return (s[0], s[1])\n",
        "\n",
        "      return (s[0] + 1, s[1])\n",
        "\n",
        "  def reward(self, s, a):\n",
        "\n",
        "    if a == 0:\n",
        "\n",
        "      if s[1] == 0:\n",
        "        # return self.env[(s[0],s[1])] - 1\n",
        "        return -1\n",
        "\n",
        "\n",
        "      # return self.env[(s[0], s[1] - 1)]\n",
        "      return -1\n",
        "\n",
        "    elif a == 1:\n",
        "\n",
        "      if s[1] == self.cols - 1:\n",
        "        # return self.env[(s[0], s[1])] - 1\n",
        "        return -1\n",
        "\n",
        "\n",
        "      # return self.env[(s[0], s[1] + 1)]\n",
        "      return -1\n",
        "\n",
        "    elif a == 2:\n",
        "\n",
        "      if s[0] == 0:\n",
        "        return -1\n",
        "        # return self.env[(s[0], s[1])] - 1\n",
        "\n",
        "      # return self.env[(s[0] - 1, s[1])]\n",
        "      return -1\n",
        "\n",
        "    elif a == 3:\n",
        "\n",
        "      if s[0] == self.rows - 1:\n",
        "        # return self.env[(s[0], s[1])] - 1\n",
        "        return -1\n",
        "\n",
        "\n",
        "      # return self.env[(s[0] + 1, s[1])]\n",
        "      return -1\n",
        "\n",
        "    \n"
      ],
      "execution_count": null,
      "outputs": []
    },
    {
      "cell_type": "code",
      "metadata": {
        "id": "c2o82LooG1TF"
      },
      "source": [
        "class Agent:\n",
        "\n",
        "  def __init__(self, rows, cols, start):\n",
        "\n",
        "    self.actions = [\"left\", \"right\", \"up\", \"down\"]\n",
        "\n",
        "    self.policy_values = np.full((4,rows,cols),0.25)\n",
        "\n",
        "    self.start = start\n",
        "\n",
        "    self.cur_state = start\n",
        "\n",
        "\n"
      ],
      "execution_count": null,
      "outputs": []
    },
    {
      "cell_type": "code",
      "metadata": {
        "id": "kCylJSgZIpuR"
      },
      "source": [
        "class PolicyIteration:\n",
        "\n",
        "  def __init__(self, agent, env):\n",
        "\n",
        "    self.df = 1\n",
        "\n",
        "    self.step_size = np.random.uniform(0,1)\n",
        "    \n",
        "    self.agent = agent\n",
        "\n",
        "    self.env = env\n",
        "\n",
        "  def evaluate_policy(self):\n",
        "\n",
        "    self.env.env = self.env.cur_values.copy()\n",
        "\n",
        "    for i in range(self.env.rows):\n",
        "\n",
        "      for j in range(self.env.cols):\n",
        "\n",
        "        s = (i,j)\n",
        "        \n",
        "        e_v = 0\n",
        "\n",
        "        if s == self.env.goal:\n",
        "          continue\n",
        "\n",
        "        policy_a = self.agent.policy_values[:,s[0],s[1]]\n",
        "\n",
        "        # print(policy_a)\n",
        "\n",
        "        for a in range(len(policy_a)):\n",
        "\n",
        "          r = self.env.reward(s,a)\n",
        "\n",
        "          # print(r)\n",
        "\n",
        "          s1 = self.env.nextState(s,a)\n",
        "\n",
        "          e_v += policy_a[a] * (r + self.df * self.env.env[s1])\n",
        "\n",
        "\n",
        "        # print(e_v)\n",
        "\n",
        "        self.env.cur_values[s] = e_v\n",
        "\n",
        "    \n",
        "  def value_iteration():\n",
        "\n",
        "    self.env.env = self.env.cur_values.copy()\n",
        "\n",
        "    for i in range(self.env.rows):\n",
        "\n",
        "      for j in range(self.env.cols):\n",
        "\n",
        "        s = (i,j)\n",
        "        \n",
        "        e_v = []\n",
        "\n",
        "        if s == self.env.goal or s == self.env.start:\n",
        "          continue\n",
        "\n",
        "        policy_a = self.agent.policy_values[:,s[0],s[1]]\n",
        "\n",
        "        # print(policy_a)\n",
        "\n",
        "        for a in range(len(policy_a)):\n",
        "\n",
        "          r = self.env.reward(s,a)\n",
        "\n",
        "          # print(r)\n",
        "\n",
        "          s1 = self.env.nextState(s,a)\n",
        "\n",
        "          e_v.append(r + self.df * self.env.env[s1])\n",
        "\n",
        "\n",
        "        self.env.cur_values[s] = max(e_v)\n",
        "\n",
        "\n",
        "  def findMax(self,s):\n",
        "\n",
        "    vals = []\n",
        "\n",
        "    if s[0] >=0 and s[1] - 1 >= 0:\n",
        "\n",
        "      vals.append(self.env.cur_values[s[0],s[1]-1])\n",
        "\n",
        "    else:\n",
        "\n",
        "      vals.append(self.env.cur_values[s[0],s[1]])\n",
        "      # vals.append(0)\n",
        "\n",
        "\n",
        "    if s[0] >=0 and s[1] + 1 <= self.env.cols - 1:\n",
        "\n",
        "      vals.append(self.env.cur_values[s[0],s[1]+1])\n",
        "\n",
        "    else:\n",
        "\n",
        "      vals.append(self.env.cur_values[s[0],s[1]])\n",
        "      # vals.append(0)\n",
        "\n",
        "\n",
        "\n",
        "    if s[0] - 1 >= 0 and s[1] >= 0:\n",
        "\n",
        "      vals.append(self.env.cur_values[s[0] - 1,s[1]])\n",
        "\n",
        "    else:\n",
        "\n",
        "      vals.append(self.env.cur_values[s[0],s[1]])\n",
        "      # vals.append(0)\n",
        "\n",
        "\n",
        "\n",
        "    if s[0] + 1 <= self.env.rows - 1 and s[1] >= 0:\n",
        "\n",
        "      vals.append(self.env.cur_values[s[0] + 1,s[1]])\n",
        "\n",
        "    else:\n",
        "\n",
        "      vals.append(self.env.cur_values[s[0],s[1]])\n",
        "      # vals.append(0)\n",
        "\n",
        "    return vals\n",
        "\n",
        "\n",
        "  def improve_policy(self):\n",
        "\n",
        "    for i in range(self.env.rows):\n",
        "\n",
        "      for j in range(self.env.cols):\n",
        "\n",
        "        s = (i,j)\n",
        "\n",
        "        values = self.findMax(s)\n",
        "\n",
        "        c = np.argmax(values)\n",
        "\n",
        "        p = [0,0,0,0]\n",
        "\n",
        "        p[c] = 1\n",
        "\n",
        "        self.agent.policy_values[:,s[0],s[1]] = p\n",
        "\n",
        "\n",
        "  def printPolicy(self):\n",
        "\n",
        "    grid = np.zeros((self.env.rows,self.env.cols))    \n",
        "\n",
        "    for i in range(self.env.rows):\n",
        "\n",
        "      for j in range(self.env.cols):\n",
        "\n",
        "        s = (i,j)\n",
        "\n",
        "        grid[s] = np.argmax(self.agent.policy_values[:,s[0],s[1]])\n",
        "\n",
        "\n",
        "    print(grid)\n",
        "\n",
        "            \n",
        "\n"
      ],
      "execution_count": null,
      "outputs": []
    },
    {
      "cell_type": "code",
      "metadata": {
        "id": "S3LtN_Wpc20E"
      },
      "source": [
        "e = GridWorld(4,4,(0,0),(3,3))"
      ],
      "execution_count": null,
      "outputs": []
    },
    {
      "cell_type": "code",
      "metadata": {
        "id": "VXbZkYwtdAoc"
      },
      "source": [
        "ag = Agent(4,4,(0,0))"
      ],
      "execution_count": null,
      "outputs": []
    },
    {
      "cell_type": "code",
      "metadata": {
        "id": "37o6QFO2116F"
      },
      "source": [
        "p = PolicyIteration(ag, e)"
      ],
      "execution_count": null,
      "outputs": []
    },
    {
      "cell_type": "code",
      "metadata": {
        "colab": {
          "base_uri": "https://localhost:8080/"
        },
        "id": "4dIc3XuH1-Fd",
        "outputId": "a7f5e4ca-332a-4612-8e3d-c3421e889b15"
      },
      "source": [
        "for i in range(10):\n",
        "\n",
        "  p.evaluate_policy()\n",
        "  p.improve_policy()\n",
        "  print(p.env.env)\n",
        "  print(\"end\")\n",
        "  # break"
      ],
      "execution_count": null,
      "outputs": [
        {
          "output_type": "stream",
          "text": [
            "[[0. 0. 0. 0.]\n",
            " [0. 0. 0. 0.]\n",
            " [0. 0. 0. 0.]\n",
            " [0. 0. 0. 0.]]\n",
            "end\n",
            "[[-1. -1. -1. -1.]\n",
            " [-1. -1. -1. -1.]\n",
            " [-1. -1. -1. -1.]\n",
            " [-1. -1. -1.  0.]]\n",
            "end\n",
            "[[-2. -2. -2. -2.]\n",
            " [-2. -2. -2. -2.]\n",
            " [-2. -2. -2. -1.]\n",
            " [-2. -2. -1.  0.]]\n",
            "end\n",
            "[[-3. -3. -3. -3.]\n",
            " [-3. -3. -3. -2.]\n",
            " [-3. -3. -2. -1.]\n",
            " [-3. -2. -1.  0.]]\n",
            "end\n",
            "[[-4. -4. -4. -3.]\n",
            " [-4. -4. -3. -2.]\n",
            " [-4. -3. -2. -1.]\n",
            " [-3. -2. -1.  0.]]\n",
            "end\n",
            "[[-5. -5. -4. -3.]\n",
            " [-5. -4. -3. -2.]\n",
            " [-4. -3. -2. -1.]\n",
            " [-3. -2. -1.  0.]]\n",
            "end\n",
            "[[-6. -5. -4. -3.]\n",
            " [-5. -4. -3. -2.]\n",
            " [-4. -3. -2. -1.]\n",
            " [-3. -2. -1.  0.]]\n",
            "end\n",
            "[[-6. -5. -4. -3.]\n",
            " [-5. -4. -3. -2.]\n",
            " [-4. -3. -2. -1.]\n",
            " [-3. -2. -1.  0.]]\n",
            "end\n",
            "[[-6. -5. -4. -3.]\n",
            " [-5. -4. -3. -2.]\n",
            " [-4. -3. -2. -1.]\n",
            " [-3. -2. -1.  0.]]\n",
            "end\n",
            "[[-6. -5. -4. -3.]\n",
            " [-5. -4. -3. -2.]\n",
            " [-4. -3. -2. -1.]\n",
            " [-3. -2. -1.  0.]]\n",
            "end\n"
          ],
          "name": "stdout"
        }
      ]
    },
    {
      "cell_type": "code",
      "metadata": {
        "colab": {
          "base_uri": "https://localhost:8080/"
        },
        "id": "kwUye2-x3aAE",
        "outputId": "9ec7699c-b57a-4ef0-b023-5a58f348ae5f"
      },
      "source": [
        "p.env.env"
      ],
      "execution_count": null,
      "outputs": [
        {
          "output_type": "execute_result",
          "data": {
            "text/plain": [
              "array([[-6., -5., -4., -3.],\n",
              "       [-5., -4., -3., -2.],\n",
              "       [-4., -3., -2., -1.],\n",
              "       [-3., -2., -1.,  0.]])"
            ]
          },
          "metadata": {
            "tags": []
          },
          "execution_count": 9
        }
      ]
    },
    {
      "cell_type": "code",
      "metadata": {
        "colab": {
          "base_uri": "https://localhost:8080/"
        },
        "id": "BtM9kWuM21LH",
        "outputId": "941b153c-315b-4a86-b254-38303197adf8"
      },
      "source": [
        "p.printPolicy()"
      ],
      "execution_count": null,
      "outputs": [
        {
          "output_type": "stream",
          "text": [
            "[[1. 1. 1. 3.]\n",
            " [1. 1. 1. 3.]\n",
            " [1. 1. 1. 3.]\n",
            " [1. 1. 1. 1.]]\n"
          ],
          "name": "stdout"
        }
      ]
    },
    {
      "cell_type": "code",
      "metadata": {
        "colab": {
          "base_uri": "https://localhost:8080/"
        },
        "id": "bMRLX1_bFzRB",
        "outputId": "356b8430-1525-446e-c841-7ac544fd486a"
      },
      "source": [
        "p.agent.policy_values"
      ],
      "execution_count": null,
      "outputs": [
        {
          "output_type": "execute_result",
          "data": {
            "text/plain": [
              "array([[[0.25, 0.25, 0.25, 0.25],\n",
              "        [0.25, 0.25, 0.25, 0.25],\n",
              "        [0.25, 0.25, 0.25, 0.25],\n",
              "        [0.25, 0.25, 0.25, 0.25]],\n",
              "\n",
              "       [[0.25, 0.25, 0.25, 0.25],\n",
              "        [0.25, 0.25, 0.25, 0.25],\n",
              "        [0.25, 0.25, 0.25, 0.25],\n",
              "        [0.25, 0.25, 0.25, 0.25]],\n",
              "\n",
              "       [[0.25, 0.25, 0.25, 0.25],\n",
              "        [0.25, 0.25, 0.25, 0.25],\n",
              "        [0.25, 0.25, 0.25, 0.25],\n",
              "        [0.25, 0.25, 0.25, 0.25]],\n",
              "\n",
              "       [[0.25, 0.25, 0.25, 0.25],\n",
              "        [0.25, 0.25, 0.25, 0.25],\n",
              "        [0.25, 0.25, 0.25, 0.25],\n",
              "        [0.25, 0.25, 0.25, 0.25]]])"
            ]
          },
          "metadata": {
            "tags": []
          },
          "execution_count": 19
        }
      ]
    },
    {
      "cell_type": "code",
      "metadata": {
        "id": "EewfbfMKB8RI"
      },
      "source": [
        ""
      ],
      "execution_count": null,
      "outputs": []
    }
  ]
}